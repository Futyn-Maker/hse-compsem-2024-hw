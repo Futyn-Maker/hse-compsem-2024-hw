{
  "nbformat": 4,
  "nbformat_minor": 0,
  "metadata": {
    "colab": {
      "provenance": []
    },
    "kernelspec": {
      "name": "python3",
      "display_name": "Python 3"
    },
    "language_info": {
      "name": "python"
    }
  },
  "cells": [
    {
      "cell_type": "code",
      "source": [
        "import nltk\n",
        "import networkx as nx\n",
        "\n",
        "\n",
        "nltk.download(\"wordnet\")\n",
        "nltk.download(\"omw-1.4\")"
      ],
      "metadata": {
        "colab": {
          "base_uri": "https://localhost:8080/"
        },
        "id": "60yFsMi1iHm4",
        "outputId": "4b5fc08f-36c7-464d-9e15-0281e6e0e0e5"
      },
      "execution_count": 1,
      "outputs": [
        {
          "output_type": "stream",
          "name": "stderr",
          "text": [
            "[nltk_data] Downloading package wordnet to /root/nltk_data...\n",
            "[nltk_data] Downloading package omw-1.4 to /root/nltk_data...\n"
          ]
        },
        {
          "output_type": "execute_result",
          "data": {
            "text/plain": [
              "True"
            ]
          },
          "metadata": {},
          "execution_count": 1
        }
      ]
    },
    {
      "cell_type": "code",
      "source": [
        "from nltk.corpus import wordnet as wn"
      ],
      "metadata": {
        "id": "BmRPwZ4CiVMk"
      },
      "execution_count": 2,
      "outputs": []
    },
    {
      "cell_type": "code",
      "source": [
        "# Костыль, чтобы появились другие языки\n",
        "\n",
        "wn.synsets(b'\\xe7\\x8a\\xac'.decode('utf-8'), lang='jpn')"
      ],
      "metadata": {
        "colab": {
          "base_uri": "https://localhost:8080/"
        },
        "id": "YeNmMysLlLeE",
        "outputId": "c59e81e9-0a40-44ff-a808-b5e63c610544"
      },
      "execution_count": 3,
      "outputs": [
        {
          "output_type": "execute_result",
          "data": {
            "text/plain": [
              "[Synset('dog.n.01'), Synset('spy.n.01')]"
            ]
          },
          "metadata": {},
          "execution_count": 3
        }
      ]
    },
    {
      "cell_type": "markdown",
      "source": [
        "### Шаг 1 (0.3 балла)\n",
        "В базе WordNet возьмите синсет 'search.v.01'. Из всех языков, которые есть в базе, извлеките списки лемм, относящихся к этому синсету.\n",
        "\n",
        "**NB!** Если вы возьмете в качестве стартового не этот синсет, а любой другой, это принесет вам 1 бонусный балл. Но будьте внимательны: в этом случае вам нужно будет самостоятельно регулировать ограничения на количество колексификаций из шага 2 так, чтобы в итоговом графе было не меньше 30 и не больше 60 узлов."
      ],
      "metadata": {
        "id": "vSdb8GkehdS0"
      }
    },
    {
      "cell_type": "code",
      "source": [
        "synset = wn.synset(\"study.v.01\")\n",
        "lemmas = {lang: synset.lemma_names(lang) for lang in wn.langs()}\n",
        "lemmas"
      ],
      "metadata": {
        "colab": {
          "base_uri": "https://localhost:8080/"
        },
        "id": "97sJFNhOhwUh",
        "outputId": "519183c7-5ce0-4893-c402-865926f69ee4"
      },
      "execution_count": 4,
      "outputs": [
        {
          "output_type": "stream",
          "name": "stderr",
          "text": [
            "/usr/local/lib/python3.10/dist-packages/nltk/corpus/reader/wordnet.py:1564: UserWarning: No WordNet synset found for pos=a at offset=1498548.\n",
            "  warnings.warn(f\"No WordNet synset found for pos={pos} at offset={offset}.\")\n",
            "/usr/local/lib/python3.10/dist-packages/nltk/corpus/reader/wordnet.py:1564: UserWarning: No WordNet synset found for pos=a at offset=1505508.\n",
            "  warnings.warn(f\"No WordNet synset found for pos={pos} at offset={offset}.\")\n",
            "/usr/local/lib/python3.10/dist-packages/nltk/corpus/reader/wordnet.py:1564: UserWarning: No WordNet synset found for pos=a at offset=2002046.\n",
            "  warnings.warn(f\"No WordNet synset found for pos={pos} at offset={offset}.\")\n",
            "/usr/local/lib/python3.10/dist-packages/nltk/corpus/reader/wordnet.py:1564: UserWarning: No WordNet synset found for pos=a at offset=2917945.\n",
            "  warnings.warn(f\"No WordNet synset found for pos={pos} at offset={offset}.\")\n"
          ]
        },
        {
          "output_type": "execute_result",
          "data": {
            "text/plain": [
              "{'eng': ['analyze', 'analyse', 'study', 'examine', 'canvass', 'canvas'],\n",
              " 'als': ['analizoj', 'diskutoj', 'ekzaminoj', 'studioj'],\n",
              " 'arb': ['اختبر',\n",
              "  'اختصر',\n",
              "  'استجوب',\n",
              "  'استنطق',\n",
              "  'التمس',\n",
              "  'امتحن',\n",
              "  'بحث',\n",
              "  'تأمل',\n",
              "  'تدارس',\n",
              "  'جرى_دراسات',\n",
              "  'حاول',\n",
              "  'حلل',\n",
              "  'حلل_نفسيا',\n",
              "  'حلّل',\n",
              "  'درس',\n",
              "  'راجع_دروسه',\n",
              "  'طاف_لتصيد_أصوات_الناخبين',\n",
              "  'عاين',\n",
              "  'فتش',\n",
              "  'فحص',\n",
              "  'فحص_بدقة',\n",
              "  'ناقش'],\n",
              " 'bul': [],\n",
              " 'cmn': ['研究'],\n",
              " 'dan': [],\n",
              " 'ell': ['αναλύω'],\n",
              " 'fin': ['analysoida', 'tutkia'],\n",
              " 'fra': ['analyser', 'examiner', 'étudier'],\n",
              " 'heb': [],\n",
              " 'hrv': ['analizirati',\n",
              "  'ispitati',\n",
              "  'ispitivati',\n",
              "  'preispitati',\n",
              "  'preispitivati',\n",
              "  'pretresati',\n",
              "  'pretresti',\n",
              "  'proučavati',\n",
              "  'proučiti',\n",
              "  'razlagati',\n",
              "  'razložiti',\n",
              "  'raščlaniti',\n",
              "  'raščlanjivati'],\n",
              " 'isl': [],\n",
              " 'ita': ['analizzare', 'esaminare', 'studiare'],\n",
              " 'ita_iwn': [],\n",
              " 'jpn': ['分析+する',\n",
              "  '吟味+する',\n",
              "  '攻究+する',\n",
              "  '査問+する',\n",
              "  '査閲+する',\n",
              "  '検する',\n",
              "  '検分+する',\n",
              "  '検査+する',\n",
              "  '検案+する',\n",
              "  '検討+する',\n",
              "  '点検+する',\n",
              "  '研修+する',\n",
              "  '研学+する',\n",
              "  '研摩+する',\n",
              "  '研磨+する',\n",
              "  '研究+する',\n",
              "  '考察+する',\n",
              "  '考査+する',\n",
              "  '考究+する',\n",
              "  '解析+する',\n",
              "  '訊問+する',\n",
              "  '討究+する',\n",
              "  '調査+する',\n",
              "  '講究+する',\n",
              "  '鑑定+する'],\n",
              " 'cat': ['analitzar', 'estudiar'],\n",
              " 'eus': ['analizatu', 'aztertu', 'ikertu'],\n",
              " 'glg': ['analizar', 'estudar'],\n",
              " 'spa': ['analizar', 'estudiar'],\n",
              " 'ind': ['belajar',\n",
              "  'memasuki',\n",
              "  'membelek',\n",
              "  'memerikan',\n",
              "  'memeriksa',\n",
              "  'mempelajari',\n",
              "  'menelaah',\n",
              "  'meneliti',\n",
              "  'menganalisis',\n",
              "  'mengekol',\n",
              "  'menghafal',\n",
              "  'mengkaji',\n",
              "  'menguji',\n",
              "  'mengulas',\n",
              "  'mengupas',\n",
              "  'menguraikan',\n",
              "  'menyelidik',\n",
              "  'menyiasat',\n",
              "  'psikoanalisis'],\n",
              " 'zsm': ['belajar',\n",
              "  'memasuki',\n",
              "  'membelek',\n",
              "  'memerikan',\n",
              "  'memeriksa',\n",
              "  'mempelajari',\n",
              "  'menelaah',\n",
              "  'meneliti',\n",
              "  'menganalisis',\n",
              "  'menghafal',\n",
              "  'mengkaji',\n",
              "  'menguji',\n",
              "  'mengulas',\n",
              "  'mengupas',\n",
              "  'menguraikan',\n",
              "  'menyelidik',\n",
              "  'menyiasat',\n",
              "  'psikoanalisis'],\n",
              " 'nld': ['analyseren', 'bestuderen', 'onderzoeken', 'uitspitten'],\n",
              " 'nno': [],\n",
              " 'nob': [],\n",
              " 'pol': [],\n",
              " 'por': ['analizar', 'examinar'],\n",
              " 'ron': ['analiza'],\n",
              " 'lit': [],\n",
              " 'slk': ['analyzovať',\n",
              "  'preberať',\n",
              "  'prebrať',\n",
              "  'preskúmať',\n",
              "  'preštudovať',\n",
              "  'robiť_prieskum',\n",
              "  'rozoberať',\n",
              "  'rozobrať',\n",
              "  'skúmať',\n",
              "  'urobiť_prieskum',\n",
              "  'študovať'],\n",
              " 'slv': ['analizirati',\n",
              "  'pregledati',\n",
              "  'preiskati',\n",
              "  'preiskovati',\n",
              "  'preveriti',\n",
              "  'razčlenjevati'],\n",
              " 'swe': [],\n",
              " 'tha': ['วิเคราะห์']}"
            ]
          },
          "metadata": {},
          "execution_count": 4
        }
      ]
    },
    {
      "cell_type": "markdown",
      "source": [
        "### Шаг 2 (0.7 балла)\n",
        "Теперь, наоборот, для каждой леммы из каждого языка составьте список синсетов, к которым она относится. Из этих синсетов выберите такие, к которым относится больше 3 лемм из нашего изначального списка (надеемся, что это поможет нам выделить более устойчивые и надежные связи). Оставшиеся синсеты и станут узлами нашего графа."
      ],
      "metadata": {
        "id": "PrqaumwBmB8n"
      }
    },
    {
      "cell_type": "code",
      "source": [
        "from collections import Counter\n",
        "\n",
        "synsets_counter = Counter(syn for lang, lemmas_list in lemmas.items() for lemma in lemmas_list for syn in wn.synsets(lemma, lang=lang))\n",
        "filtered_synsets = [syn for syn, count in synsets_counter.items() if count > 4]\n",
        "\n",
        "len(filtered_synsets)"
      ],
      "metadata": {
        "colab": {
          "base_uri": "https://localhost:8080/"
        },
        "id": "L1hxLDEy6lpw",
        "outputId": "db1323a8-2c27-4481-fd33-e23a1f4eff53"
      },
      "execution_count": 5,
      "outputs": [
        {
          "output_type": "execute_result",
          "data": {
            "text/plain": [
              "50"
            ]
          },
          "metadata": {},
          "execution_count": 5
        }
      ]
    },
    {
      "cell_type": "markdown",
      "source": [
        "### Шаг 3 (1 балл)\n",
        "Теперь строим ребра. Ребро между двумя синсетами ставьте в том случае, если хотя бы в одном языке есть хотя бы одна лемма, которая относится к ним обоим. Пусть граф будет взвешенным: вес ребра будет отражать количество лемм, относящихся к обоим узлам пары.\n",
        "\n",
        "**NB!** На этом шаге мы уже забываем про исходный список лемм из шага 1 (он нам нужен был только для отбора синсетов) и учитываем все леммы, относящиеся к отобранным узлам.\n",
        "\n",
        "**Критерии**: 0.5 балла - ребра, 0.5 балла - вес ребер"
      ],
      "metadata": {
        "id": "ggsjtSmBsxAe"
      }
    },
    {
      "cell_type": "code",
      "source": [
        "graph = nx.Graph()\n",
        "\n",
        "for syn in filtered_synsets:\n",
        "    graph.add_node(syn.name())\n",
        "\n",
        "for syn1 in filtered_synsets:\n",
        "    for syn2 in filtered_synsets:\n",
        "        if syn1 != syn2:\n",
        "            weight = 0\n",
        "            for lang in wn.langs():\n",
        "                lemmas1 = set(syn1.lemma_names(lang))\n",
        "                lemmas2 = set(syn2.lemma_names(lang))\n",
        "                common_lemmas = lemmas1.intersection(lemmas2)\n",
        "                weight += len(common_lemmas)\n",
        "            if weight > 0:\n",
        "                graph.add_edge(syn1.name(), syn2.name(), weight=weight)\n",
        "\n",
        "len(graph), len(graph.edges)"
      ],
      "metadata": {
        "id": "YPRkciGLs197",
        "colab": {
          "base_uri": "https://localhost:8080/"
        },
        "outputId": "b6aa6e7d-38f9-4e68-88da-07f1931cc8bf"
      },
      "execution_count": 6,
      "outputs": [
        {
          "output_type": "execute_result",
          "data": {
            "text/plain": [
              "(50, 817)"
            ]
          },
          "metadata": {},
          "execution_count": 6
        }
      ]
    },
    {
      "cell_type": "markdown",
      "source": [
        "### Шаг 4 (3 балла)\n",
        "Проанализируйте получившийся граф. Сколько получилось связных компонент? Какая у этого графа плотность? Как распределились (взвешенные) степени узлов? Какие узлы оказались центральными (попробуйте несколько метрик, например, degree centrality и eigencentrality, прокомментируйте результат)? Разбейте граф на сообщества (поиграйте с несколькими алгоритмами) и прокомментируйте результаты.\n",
        "\n",
        "**Критерии**: 0.5 - связные компоненты, 0.5 - плотность графа, 1 - степени и центральность узлов, 1 - сообщества"
      ],
      "metadata": {
        "id": "1SDSLZ2Y1e3f"
      }
    },
    {
      "cell_type": "code",
      "source": [
        "# Связные компоненты и плотность графа\n",
        "\n",
        "num_connected_components = nx.number_connected_components(graph)\n",
        "density = nx.density(graph)\n",
        "\n",
        "num_connected_components, density"
      ],
      "metadata": {
        "colab": {
          "base_uri": "https://localhost:8080/"
        },
        "id": "TelQnSnvIXhV",
        "outputId": "f9979708-a762-44ed-b3bc-b461a38d7604"
      },
      "execution_count": 7,
      "outputs": [
        {
          "output_type": "execute_result",
          "data": {
            "text/plain": [
              "(1, 0.6669387755102041)"
            ]
          },
          "metadata": {},
          "execution_count": 7
        }
      ]
    },
    {
      "cell_type": "markdown",
      "source": [
        "Выходит, что все синсеты в графе так или иначе связаны между собой, изолированных, т.е. таких, которые бы обозначали какой-то совсем \"левый\" семантический концепт, никак не связанный с изучением, нет. Но оно и не удивительно: мы ведь ставили рёбра всегда, когда одно слово встречалось рядом с другим, поэтому они все и связались!\n",
        "\n",
        "Наш граф достаточно плотный, значит, большинство синсетов связано напрямую или \"близко\". Можно предположить, что будет очень много близких синонимов, но это мы проверим дальше."
      ],
      "metadata": {
        "id": "TZHyN0wXJOjJ"
      }
    },
    {
      "cell_type": "code",
      "source": [
        "# Распределение взвешенных степеней\n",
        "weighted_degrees = dict(graph.degree(weight=\"weight\"))\n",
        "\n",
        "weighted_degrees"
      ],
      "metadata": {
        "colab": {
          "base_uri": "https://localhost:8080/"
        },
        "id": "iPSei5gNKlEE",
        "outputId": "0f3b7cef-f669-45a6-a776-b1aac7a3f497"
      },
      "execution_count": 8,
      "outputs": [
        {
          "output_type": "execute_result",
          "data": {
            "text/plain": [
              "{'analyze.v.01': 604,\n",
              " 'analyze.v.02': 154,\n",
              " 'analyze.v.03': 95,\n",
              " 'analyze.v.04': 85,\n",
              " 'study.v.02': 154,\n",
              " 'study.v.03': 313,\n",
              " 'learn.v.04': 335,\n",
              " 'study.v.05': 156,\n",
              " 'study.v.06': 127,\n",
              " 'examine.v.02': 543,\n",
              " 'probe.v.01': 340,\n",
              " 'examine.v.04': 179,\n",
              " 'test.v.01': 370,\n",
              " 'poll.v.01': 20,\n",
              " 'size_up.v.01': 258,\n",
              " 'hash_out.v.01': 38,\n",
              " 'try_on.v.01': 153,\n",
              " 'sample.v.01': 164,\n",
              " 'try.v.01': 192,\n",
              " 'investigate.v.02': 264,\n",
              " 'investigate.v.01': 244,\n",
              " 'learn.v.02': 291,\n",
              " 'interpret.v.01': 171,\n",
              " 'see.v.05': 297,\n",
              " 'search.v.01': 186,\n",
              " 'search.v.04': 156,\n",
              " 'view.v.02': 205,\n",
              " 'learn.v.01': 137,\n",
              " 'memorize.v.01': 106,\n",
              " 'teach.v.01': 111,\n",
              " 'inspect.v.01': 356,\n",
              " 'check.v.01': 318,\n",
              " 'determine.v.08': 351,\n",
              " 'control.v.02': 213,\n",
              " 'survey.v.01': 86,\n",
              " 'research.v.02': 190,\n",
              " 'audit.v.01': 194,\n",
              " 'screen.v.02': 83,\n",
              " 'quiz.v.01': 106,\n",
              " 'research.v.01': 147,\n",
              " 'survey.v.02': 113,\n",
              " 'screen.v.03': 73,\n",
              " 'screen.v.01': 139,\n",
              " 'interrogate.v.02': 149,\n",
              " 'review.v.03': 127,\n",
              " 'visit.v.04': 118,\n",
              " 'check.v.22': 201,\n",
              " 'check.v.02': 204,\n",
              " 'control.v.05': 213,\n",
              " 'check.v.08': 155}"
            ]
          },
          "metadata": {},
          "execution_count": 8
        }
      ]
    },
    {
      "cell_type": "code",
      "source": [
        "# Degree Centrality\n",
        "degree_centrality = nx.degree_centrality(graph)\n",
        "\n",
        "degree_centrality"
      ],
      "metadata": {
        "colab": {
          "base_uri": "https://localhost:8080/"
        },
        "id": "hi66IKsGLXsV",
        "outputId": "2167b628-6253-48d4-8333-9c6b7dc4050f"
      },
      "execution_count": 9,
      "outputs": [
        {
          "output_type": "execute_result",
          "data": {
            "text/plain": [
              "{'analyze.v.01': 0.9999999999999999,\n",
              " 'analyze.v.02': 0.7551020408163265,\n",
              " 'analyze.v.03': 0.4693877551020408,\n",
              " 'analyze.v.04': 0.3469387755102041,\n",
              " 'study.v.02': 0.5102040816326531,\n",
              " 'study.v.03': 0.8571428571428571,\n",
              " 'learn.v.04': 0.9387755102040816,\n",
              " 'study.v.05': 0.6530612244897959,\n",
              " 'study.v.06': 0.5306122448979591,\n",
              " 'examine.v.02': 0.9183673469387754,\n",
              " 'probe.v.01': 0.9183673469387754,\n",
              " 'examine.v.04': 0.7142857142857142,\n",
              " 'test.v.01': 0.836734693877551,\n",
              " 'poll.v.01': 0.2857142857142857,\n",
              " 'size_up.v.01': 0.8775510204081632,\n",
              " 'hash_out.v.01': 0.42857142857142855,\n",
              " 'try_on.v.01': 0.4693877551020408,\n",
              " 'sample.v.01': 0.44897959183673464,\n",
              " 'try.v.01': 0.5918367346938775,\n",
              " 'investigate.v.02': 0.8571428571428571,\n",
              " 'investigate.v.01': 0.9183673469387754,\n",
              " 'learn.v.02': 0.6938775510204082,\n",
              " 'interpret.v.01': 0.5918367346938775,\n",
              " 'see.v.05': 0.673469387755102,\n",
              " 'search.v.01': 0.8163265306122448,\n",
              " 'search.v.04': 0.7551020408163265,\n",
              " 'view.v.02': 0.7142857142857142,\n",
              " 'learn.v.01': 0.4081632653061224,\n",
              " 'memorize.v.01': 0.42857142857142855,\n",
              " 'teach.v.01': 0.4081632653061224,\n",
              " 'inspect.v.01': 0.8979591836734693,\n",
              " 'check.v.01': 0.7959183673469387,\n",
              " 'determine.v.08': 0.9387755102040816,\n",
              " 'control.v.02': 0.6530612244897959,\n",
              " 'survey.v.01': 0.7551020408163265,\n",
              " 'research.v.02': 0.6530612244897959,\n",
              " 'audit.v.01': 0.6938775510204082,\n",
              " 'screen.v.02': 0.5510204081632653,\n",
              " 'quiz.v.01': 0.6326530612244897,\n",
              " 'research.v.01': 0.6530612244897959,\n",
              " 'survey.v.02': 0.6938775510204082,\n",
              " 'screen.v.03': 0.5918367346938775,\n",
              " 'screen.v.01': 0.7346938775510203,\n",
              " 'interrogate.v.02': 0.6530612244897959,\n",
              " 'review.v.03': 0.673469387755102,\n",
              " 'visit.v.04': 0.6122448979591836,\n",
              " 'check.v.22': 0.6122448979591836,\n",
              " 'check.v.02': 0.5918367346938775,\n",
              " 'control.v.05': 0.6122448979591836,\n",
              " 'check.v.08': 0.5306122448979591}"
            ]
          },
          "metadata": {},
          "execution_count": 9
        }
      ]
    },
    {
      "cell_type": "code",
      "source": [
        "# Eigenvector Centrality\n",
        "eigenvector_centrality = nx.eigenvector_centrality(graph)\n",
        "\n",
        "eigenvector_centrality"
      ],
      "metadata": {
        "colab": {
          "base_uri": "https://localhost:8080/"
        },
        "id": "VOSQopQBL1hS",
        "outputId": "70b7da20-178a-4aa8-c6be-327b53c337c8"
      },
      "execution_count": 10,
      "outputs": [
        {
          "output_type": "execute_result",
          "data": {
            "text/plain": [
              "{'analyze.v.01': 0.1924605717518631,\n",
              " 'analyze.v.02': 0.14976102414125383,\n",
              " 'analyze.v.03': 0.08901920527281722,\n",
              " 'analyze.v.04': 0.06351982292388987,\n",
              " 'study.v.02': 0.10116715850763491,\n",
              " 'study.v.03': 0.16861026089102146,\n",
              " 'learn.v.04': 0.18366329339233248,\n",
              " 'study.v.05': 0.12846099580289072,\n",
              " 'study.v.06': 0.10315034671784104,\n",
              " 'examine.v.02': 0.18356797710959608,\n",
              " 'probe.v.01': 0.18356797710959608,\n",
              " 'examine.v.04': 0.14877190080069738,\n",
              " 'test.v.01': 0.17394768518922551,\n",
              " 'poll.v.01': 0.06169125936630012,\n",
              " 'size_up.v.01': 0.1774612318206004,\n",
              " 'hash_out.v.01': 0.094556532036979,\n",
              " 'try_on.v.01': 0.10217037981092755,\n",
              " 'sample.v.01': 0.09837445408400607,\n",
              " 'try.v.01': 0.1281907732649217,\n",
              " 'investigate.v.02': 0.17496702309554982,\n",
              " 'investigate.v.01': 0.18389509059707848,\n",
              " 'learn.v.02': 0.13680167835288712,\n",
              " 'interpret.v.01': 0.11937802406662594,\n",
              " 'see.v.05': 0.13698878289858912,\n",
              " 'search.v.01': 0.16656382561378244,\n",
              " 'search.v.04': 0.15436778643000154,\n",
              " 'view.v.02': 0.14717145870048043,\n",
              " 'learn.v.01': 0.07940813082289892,\n",
              " 'memorize.v.01': 0.08336704097110713,\n",
              " 'teach.v.01': 0.07940813082289892,\n",
              " 'inspect.v.01': 0.18103245180140118,\n",
              " 'check.v.01': 0.16832876154624052,\n",
              " 'determine.v.08': 0.18372799213973717,\n",
              " 'control.v.02': 0.14129773002623008,\n",
              " 'survey.v.01': 0.15724710740996203,\n",
              " 'research.v.02': 0.141101102481375,\n",
              " 'audit.v.01': 0.15094758476609363,\n",
              " 'screen.v.02': 0.11874372193190809,\n",
              " 'quiz.v.01': 0.1335498656639871,\n",
              " 'research.v.01': 0.13813774292206135,\n",
              " 'survey.v.02': 0.14847685048953344,\n",
              " 'screen.v.03': 0.12497176920635414,\n",
              " 'screen.v.01': 0.15668306671497093,\n",
              " 'interrogate.v.02': 0.14011215861313434,\n",
              " 'review.v.03': 0.142051481998515,\n",
              " 'visit.v.04': 0.1351275036494505,\n",
              " 'check.v.22': 0.13278524257632904,\n",
              " 'check.v.02': 0.13020130742803396,\n",
              " 'control.v.05': 0.13150747225229212,\n",
              " 'check.v.08': 0.11863570308861818}"
            ]
          },
          "metadata": {},
          "execution_count": 10
        }
      ]
    },
    {
      "cell_type": "markdown",
      "source": [
        "Великолепная картина! Тут видно, что мы нашли очень много близких синонимов концепту `study` в значении \"изучать что-либо (внимательно), исследовать\". Ирония в том, что в итоговом графе не нашлось места самому `study.v.01` - его полностью заменил `analyze.v.01`, который и стал центральным - по всей видимости, являясь почти полным синонимом *study* в этом значении и употребляемый чаще."
      ],
      "metadata": {
        "id": "AI_2z1hSNKN6"
      }
    },
    {
      "cell_type": "code",
      "source": [
        "from networkx.algorithms import community\n",
        "\n",
        "partition_louvain = community.louvain_communities(graph)\n",
        "\n",
        "partition_louvain"
      ],
      "metadata": {
        "colab": {
          "base_uri": "https://localhost:8080/"
        },
        "id": "LqpfrRWdS6l7",
        "outputId": "54504434-fb7c-4016-a5d6-1ac85022ca84"
      },
      "execution_count": 11,
      "outputs": [
        {
          "output_type": "execute_result",
          "data": {
            "text/plain": [
              "[{'analyze.v.01',\n",
              "  'analyze.v.02',\n",
              "  'analyze.v.03',\n",
              "  'analyze.v.04',\n",
              "  'learn.v.01',\n",
              "  'learn.v.04',\n",
              "  'memorize.v.01',\n",
              "  'poll.v.01',\n",
              "  'study.v.02',\n",
              "  'study.v.05',\n",
              "  'study.v.06',\n",
              "  'teach.v.01'},\n",
              " {'determine.v.08',\n",
              "  'examine.v.02',\n",
              "  'interpret.v.01',\n",
              "  'learn.v.02',\n",
              "  'see.v.05',\n",
              "  'study.v.03',\n",
              "  'view.v.02'},\n",
              " {'examine.v.04',\n",
              "  'hash_out.v.01',\n",
              "  'interrogate.v.02',\n",
              "  'investigate.v.01',\n",
              "  'investigate.v.02',\n",
              "  'probe.v.01',\n",
              "  'research.v.01',\n",
              "  'research.v.02',\n",
              "  'screen.v.02',\n",
              "  'screen.v.03',\n",
              "  'search.v.01',\n",
              "  'search.v.04'},\n",
              " {'audit.v.01',\n",
              "  'check.v.01',\n",
              "  'check.v.02',\n",
              "  'check.v.08',\n",
              "  'check.v.22',\n",
              "  'control.v.02',\n",
              "  'control.v.05',\n",
              "  'inspect.v.01',\n",
              "  'review.v.03',\n",
              "  'size_up.v.01',\n",
              "  'survey.v.01',\n",
              "  'survey.v.02',\n",
              "  'visit.v.04'},\n",
              " {'quiz.v.01',\n",
              "  'sample.v.01',\n",
              "  'screen.v.01',\n",
              "  'test.v.01',\n",
              "  'try.v.01',\n",
              "  'try_on.v.01'}]"
            ]
          },
          "metadata": {},
          "execution_count": 11
        }
      ]
    },
    {
      "cell_type": "code",
      "source": [
        "partition_naive = community.naive_greedy_modularity_communities(graph)\n",
        "\n",
        "partition_naive"
      ],
      "metadata": {
        "colab": {
          "base_uri": "https://localhost:8080/"
        },
        "id": "G3WbcBpCTjXx",
        "outputId": "7f307533-d909-47c0-da1d-b2c6497ebfcc"
      },
      "execution_count": 12,
      "outputs": [
        {
          "output_type": "execute_result",
          "data": {
            "text/plain": [
              "[frozenset({'audit.v.01',\n",
              "            'check.v.01',\n",
              "            'check.v.02',\n",
              "            'check.v.08',\n",
              "            'check.v.22',\n",
              "            'control.v.02',\n",
              "            'control.v.05',\n",
              "            'examine.v.02',\n",
              "            'hash_out.v.01',\n",
              "            'inspect.v.01',\n",
              "            'interrogate.v.02',\n",
              "            'investigate.v.01',\n",
              "            'investigate.v.02',\n",
              "            'probe.v.01',\n",
              "            'quiz.v.01',\n",
              "            'research.v.02',\n",
              "            'sample.v.01',\n",
              "            'screen.v.01',\n",
              "            'screen.v.02',\n",
              "            'search.v.01',\n",
              "            'search.v.04',\n",
              "            'size_up.v.01',\n",
              "            'survey.v.02',\n",
              "            'test.v.01',\n",
              "            'try.v.01',\n",
              "            'try_on.v.01',\n",
              "            'visit.v.04'}),\n",
              " frozenset({'analyze.v.01',\n",
              "            'analyze.v.02',\n",
              "            'analyze.v.03',\n",
              "            'analyze.v.04',\n",
              "            'determine.v.08',\n",
              "            'examine.v.04',\n",
              "            'interpret.v.01',\n",
              "            'learn.v.01',\n",
              "            'learn.v.02',\n",
              "            'learn.v.04',\n",
              "            'memorize.v.01',\n",
              "            'poll.v.01',\n",
              "            'research.v.01',\n",
              "            'review.v.03',\n",
              "            'screen.v.03',\n",
              "            'see.v.05',\n",
              "            'study.v.02',\n",
              "            'study.v.03',\n",
              "            'study.v.05',\n",
              "            'study.v.06',\n",
              "            'survey.v.01',\n",
              "            'teach.v.01',\n",
              "            'view.v.02'})]"
            ]
          },
          "metadata": {},
          "execution_count": 12
        }
      ]
    },
    {
      "cell_type": "markdown",
      "source": [
        "Мы попробовали два алгоритма и, в принципе, второй достаточно плох, тогда как первый неплохо выделяет кластеры синсетов. У нас есть один большой, который, кажется, не очень хорошо объединяется и туда ссыпалось всё подряд (включая центральные синсеты, кстати). Чётко выделяются кластеры, связанный с глаголами расследования, глаголами оценки знаний."
      ],
      "metadata": {
        "id": "5ZphLAFhWooY"
      }
    },
    {
      "cell_type": "markdown",
      "source": [
        "### Шаг 5 (2 балла)\n",
        "Постройте точно такой же граф, только теперь ставьте ребра только в том случае, если пару синсетов объединяет не менее 5 лемм (убираем все ребра с небольшим весом в поисках наиболее устойчивых связей). Проанализируйте этот граф по той же схеме (см. шаг 4). Что изменилось? Какой из графов кажется вам более содержательным и почему?\n",
        "\n",
        "**Критерии**: 0.5 - обновленный граф, 0.5 - подсчет всех метрик заново, 1 - комментарий"
      ],
      "metadata": {
        "id": "WstOGr7pfnLb"
      }
    },
    {
      "cell_type": "code",
      "source": [
        "graph2 = nx.Graph()\n",
        "\n",
        "for syn in filtered_synsets:\n",
        "    graph2.add_node(syn.name())\n",
        "\n",
        "for syn1 in filtered_synsets:\n",
        "    for syn2 in filtered_synsets:\n",
        "        if syn1 != syn2:\n",
        "            weight = 0\n",
        "            for lang in wn.langs():\n",
        "                lemmas1 = set(syn1.lemma_names(lang))\n",
        "                lemmas2 = set(syn2.lemma_names(lang))\n",
        "                common_lemmas = lemmas1.intersection(lemmas2)\n",
        "                weight += len(common_lemmas)\n",
        "            if weight > 5:\n",
        "                graph2.add_edge(syn1.name(), syn2.name(), weight=weight)\n",
        "\n",
        "len(graph2), len(graph2.edges)"
      ],
      "metadata": {
        "id": "6qFBOKV0vyx4",
        "colab": {
          "base_uri": "https://localhost:8080/"
        },
        "outputId": "d54a9645-c168-4970-a50e-d2650d5e59eb"
      },
      "execution_count": 13,
      "outputs": [
        {
          "output_type": "execute_result",
          "data": {
            "text/plain": [
              "(50, 248)"
            ]
          },
          "metadata": {},
          "execution_count": 13
        }
      ]
    },
    {
      "cell_type": "code",
      "source": [
        "# Связные компоненты и плотность графа\n",
        "\n",
        "num_connected_components = nx.number_connected_components(graph2)\n",
        "density = nx.density(graph2)\n",
        "\n",
        "num_connected_components, density"
      ],
      "metadata": {
        "colab": {
          "base_uri": "https://localhost:8080/"
        },
        "id": "zDiV8tq8wIid",
        "outputId": "3d2e19a3-6ec1-4876-a7e5-19f49121004d"
      },
      "execution_count": 14,
      "outputs": [
        {
          "output_type": "execute_result",
          "data": {
            "text/plain": [
              "(2, 0.20244897959183675)"
            ]
          },
          "metadata": {},
          "execution_count": 14
        }
      ]
    },
    {
      "cell_type": "code",
      "source": [
        "connected_components = list(nx.connected_components(graph2))\n",
        "\n",
        "connected_components"
      ],
      "metadata": {
        "colab": {
          "base_uri": "https://localhost:8080/"
        },
        "id": "uRK30pMOx5MT",
        "outputId": "d7ccd46d-6faf-4ec1-99bc-5032d023d6ca"
      },
      "execution_count": 15,
      "outputs": [
        {
          "output_type": "execute_result",
          "data": {
            "text/plain": [
              "[{'analyze.v.01',\n",
              "  'analyze.v.02',\n",
              "  'analyze.v.03',\n",
              "  'analyze.v.04',\n",
              "  'audit.v.01',\n",
              "  'check.v.01',\n",
              "  'check.v.02',\n",
              "  'check.v.08',\n",
              "  'check.v.22',\n",
              "  'control.v.02',\n",
              "  'control.v.05',\n",
              "  'determine.v.08',\n",
              "  'examine.v.02',\n",
              "  'examine.v.04',\n",
              "  'hash_out.v.01',\n",
              "  'inspect.v.01',\n",
              "  'interpret.v.01',\n",
              "  'interrogate.v.02',\n",
              "  'investigate.v.01',\n",
              "  'investigate.v.02',\n",
              "  'learn.v.01',\n",
              "  'learn.v.02',\n",
              "  'learn.v.04',\n",
              "  'memorize.v.01',\n",
              "  'probe.v.01',\n",
              "  'quiz.v.01',\n",
              "  'research.v.01',\n",
              "  'research.v.02',\n",
              "  'review.v.03',\n",
              "  'sample.v.01',\n",
              "  'screen.v.01',\n",
              "  'screen.v.02',\n",
              "  'screen.v.03',\n",
              "  'search.v.01',\n",
              "  'search.v.04',\n",
              "  'see.v.05',\n",
              "  'size_up.v.01',\n",
              "  'study.v.02',\n",
              "  'study.v.03',\n",
              "  'study.v.05',\n",
              "  'study.v.06',\n",
              "  'survey.v.01',\n",
              "  'survey.v.02',\n",
              "  'teach.v.01',\n",
              "  'test.v.01',\n",
              "  'try.v.01',\n",
              "  'try_on.v.01',\n",
              "  'view.v.02',\n",
              "  'visit.v.04'},\n",
              " {'poll.v.01'}]"
            ]
          },
          "metadata": {},
          "execution_count": 15
        }
      ]
    },
    {
      "cell_type": "markdown",
      "source": [
        "И тут у нас появляется один изолированный кластер из одного слова: `poll`, в отличие от первого графа -- потому что рёбер меньше. Но в целом остальные слова остались связанными между собой.\n",
        "\n",
        "Плотность графа очень низкая, что тоже говорит о маленьком количестве прямых связей между синсетами. Получается, что слова в основном остались связанными, но теперь уже намного слабее - путь, которым можно прийти от одного синсета к другому, стал длиннее."
      ],
      "metadata": {
        "id": "vl3TDB-ebQql"
      }
    },
    {
      "cell_type": "code",
      "source": [
        "# Распределение взвешенных степеней\n",
        "weighted_degrees = dict(graph2.degree(weight=\"weight\"))\n",
        "\n",
        "weighted_degrees"
      ],
      "metadata": {
        "colab": {
          "base_uri": "https://localhost:8080/"
        },
        "id": "WP5BrhsbwopO",
        "outputId": "350ad8a6-fa9d-4611-8bb9-60ef1cb356e9"
      },
      "execution_count": 16,
      "outputs": [
        {
          "output_type": "execute_result",
          "data": {
            "text/plain": [
              "{'analyze.v.01': 550,\n",
              " 'analyze.v.02': 76,\n",
              " 'analyze.v.03': 60,\n",
              " 'analyze.v.04': 56,\n",
              " 'study.v.02': 119,\n",
              " 'study.v.03': 242,\n",
              " 'learn.v.04': 239,\n",
              " 'study.v.05': 109,\n",
              " 'study.v.06': 74,\n",
              " 'examine.v.02': 472,\n",
              " 'probe.v.01': 255,\n",
              " 'examine.v.04': 92,\n",
              " 'test.v.01': 312,\n",
              " 'poll.v.01': 0,\n",
              " 'size_up.v.01': 191,\n",
              " 'hash_out.v.01': 6,\n",
              " 'try_on.v.01': 115,\n",
              " 'sample.v.01': 130,\n",
              " 'try.v.01': 137,\n",
              " 'investigate.v.02': 195,\n",
              " 'investigate.v.01': 162,\n",
              " 'learn.v.02': 231,\n",
              " 'interpret.v.01': 121,\n",
              " 'see.v.05': 235,\n",
              " 'search.v.01': 116,\n",
              " 'search.v.04': 91,\n",
              " 'view.v.02': 159,\n",
              " 'learn.v.01': 112,\n",
              " 'memorize.v.01': 75,\n",
              " 'teach.v.01': 81,\n",
              " 'inspect.v.01': 314,\n",
              " 'check.v.01': 258,\n",
              " 'determine.v.08': 291,\n",
              " 'control.v.02': 147,\n",
              " 'survey.v.01': 16,\n",
              " 'research.v.02': 138,\n",
              " 'audit.v.01': 139,\n",
              " 'screen.v.02': 33,\n",
              " 'quiz.v.01': 47,\n",
              " 'research.v.01': 89,\n",
              " 'survey.v.02': 24,\n",
              " 'screen.v.03': 17,\n",
              " 'screen.v.01': 49,\n",
              " 'interrogate.v.02': 68,\n",
              " 'review.v.03': 53,\n",
              " 'visit.v.04': 45,\n",
              " 'check.v.22': 155,\n",
              " 'check.v.02': 160,\n",
              " 'control.v.05': 160,\n",
              " 'check.v.08': 112}"
            ]
          },
          "metadata": {},
          "execution_count": 16
        }
      ]
    },
    {
      "cell_type": "code",
      "source": [
        "# Degree Centrality\n",
        "degree_centrality = nx.degree_centrality(graph2)\n",
        "\n",
        "degree_centrality"
      ],
      "metadata": {
        "id": "CqBwYO9wxGcI",
        "colab": {
          "base_uri": "https://localhost:8080/"
        },
        "outputId": "f053c927-d6be-4778-aa03-6cb91d43180f"
      },
      "execution_count": 17,
      "outputs": [
        {
          "output_type": "execute_result",
          "data": {
            "text/plain": [
              "{'analyze.v.01': 0.7755102040816326,\n",
              " 'analyze.v.02': 0.061224489795918366,\n",
              " 'analyze.v.03': 0.061224489795918366,\n",
              " 'analyze.v.04': 0.061224489795918366,\n",
              " 'study.v.02': 0.16326530612244897,\n",
              " 'study.v.03': 0.3061224489795918,\n",
              " 'learn.v.04': 0.3061224489795918,\n",
              " 'study.v.05': 0.18367346938775508,\n",
              " 'study.v.06': 0.12244897959183673,\n",
              " 'examine.v.02': 0.5102040816326531,\n",
              " 'probe.v.01': 0.3877551020408163,\n",
              " 'examine.v.04': 0.14285714285714285,\n",
              " 'test.v.01': 0.3877551020408163,\n",
              " 'poll.v.01': 0.0,\n",
              " 'size_up.v.01': 0.36734693877551017,\n",
              " 'hash_out.v.01': 0.02040816326530612,\n",
              " 'try_on.v.01': 0.08163265306122448,\n",
              " 'sample.v.01': 0.1020408163265306,\n",
              " 'try.v.01': 0.1020408163265306,\n",
              " 'investigate.v.02': 0.3061224489795918,\n",
              " 'investigate.v.01': 0.3061224489795918,\n",
              " 'learn.v.02': 0.22448979591836732,\n",
              " 'interpret.v.01': 0.1020408163265306,\n",
              " 'see.v.05': 0.16326530612244897,\n",
              " 'search.v.01': 0.18367346938775508,\n",
              " 'search.v.04': 0.14285714285714285,\n",
              " 'view.v.02': 0.18367346938775508,\n",
              " 'learn.v.01': 0.16326530612244897,\n",
              " 'memorize.v.01': 0.14285714285714285,\n",
              " 'teach.v.01': 0.14285714285714285,\n",
              " 'inspect.v.01': 0.5306122448979591,\n",
              " 'check.v.01': 0.3469387755102041,\n",
              " 'determine.v.08': 0.4693877551020408,\n",
              " 'control.v.02': 0.2040816326530612,\n",
              " 'survey.v.01': 0.04081632653061224,\n",
              " 'research.v.02': 0.22448979591836732,\n",
              " 'audit.v.01': 0.3061224489795918,\n",
              " 'screen.v.02': 0.08163265306122448,\n",
              " 'quiz.v.01': 0.1020408163265306,\n",
              " 'research.v.01': 0.16326530612244897,\n",
              " 'survey.v.02': 0.061224489795918366,\n",
              " 'screen.v.03': 0.04081632653061224,\n",
              " 'screen.v.01': 0.1020408163265306,\n",
              " 'interrogate.v.02': 0.14285714285714285,\n",
              " 'review.v.03': 0.12244897959183673,\n",
              " 'visit.v.04': 0.08163265306122448,\n",
              " 'check.v.22': 0.22448979591836732,\n",
              " 'check.v.02': 0.24489795918367346,\n",
              " 'control.v.05': 0.22448979591836732,\n",
              " 'check.v.08': 0.2040816326530612}"
            ]
          },
          "metadata": {},
          "execution_count": 17
        }
      ]
    },
    {
      "cell_type": "code",
      "source": [
        "# Eigenvector Centrality\n",
        "eigenvector_centrality = nx.eigenvector_centrality(graph2)\n",
        "\n",
        "eigenvector_centrality"
      ],
      "metadata": {
        "id": "r9xifuCNxPum",
        "colab": {
          "base_uri": "https://localhost:8080/"
        },
        "outputId": "0a60962d-0fda-468b-b6a5-64b845eb79d6"
      },
      "execution_count": 18,
      "outputs": [
        {
          "output_type": "execute_result",
          "data": {
            "text/plain": [
              "{'analyze.v.01': 0.3150495955823745,\n",
              " 'analyze.v.02': 0.02472538935710457,\n",
              " 'analyze.v.03': 0.02472538935710457,\n",
              " 'analyze.v.04': 0.02472538935710457,\n",
              " 'study.v.02': 0.0635799819484014,\n",
              " 'study.v.03': 0.15073681615703138,\n",
              " 'learn.v.04': 0.14388273995912984,\n",
              " 'study.v.05': 0.06793267148920666,\n",
              " 'study.v.06': 0.05741747870924782,\n",
              " 'examine.v.02': 0.2867832640797852,\n",
              " 'probe.v.01': 0.24787968711823802,\n",
              " 'examine.v.04': 0.11404273008979061,\n",
              " 'test.v.01': 0.21998329143242934,\n",
              " 'poll.v.01': 7.6973651896277e-22,\n",
              " 'size_up.v.01': 0.22465389927488427,\n",
              " 'hash_out.v.01': 0.021370951034419404,\n",
              " 'try_on.v.01': 0.02440252455128838,\n",
              " 'sample.v.01': 0.044415893039571025,\n",
              " 'try.v.01': 0.049101649964621956,\n",
              " 'investigate.v.02': 0.2016389996258576,\n",
              " 'investigate.v.01': 0.19832448083213214,\n",
              " 'learn.v.02': 0.10811566556131086,\n",
              " 'interpret.v.01': 0.05774971201921994,\n",
              " 'see.v.05': 0.09073644042616533,\n",
              " 'search.v.01': 0.1200053652801119,\n",
              " 'search.v.04': 0.10261522759866408,\n",
              " 'view.v.02': 0.1052571144074555,\n",
              " 'learn.v.01': 0.062120017976469724,\n",
              " 'memorize.v.01': 0.06851885189058209,\n",
              " 'teach.v.01': 0.05254445158836076,\n",
              " 'inspect.v.01': 0.2796119764587818,\n",
              " 'check.v.01': 0.22821986495249666,\n",
              " 'determine.v.08': 0.26044966727733015,\n",
              " 'control.v.02': 0.15030942049408028,\n",
              " 'survey.v.01': 0.03420598751747163,\n",
              " 'research.v.02': 0.1502442847044648,\n",
              " 'audit.v.01': 0.20141987577117498,\n",
              " 'screen.v.02': 0.057533156946257914,\n",
              " 'quiz.v.01': 0.04624212258316699,\n",
              " 'research.v.01': 0.0875999405472825,\n",
              " 'survey.v.02': 0.04552404146268446,\n",
              " 'screen.v.03': 0.025273609444653945,\n",
              " 'screen.v.01': 0.07785028965287107,\n",
              " 'interrogate.v.02': 0.10725819065392918,\n",
              " 'review.v.03': 0.0764544851544897,\n",
              " 'visit.v.04': 0.05726949298962437,\n",
              " 'check.v.22': 0.16001665156545417,\n",
              " 'check.v.02': 0.1800300200537368,\n",
              " 'control.v.05': 0.16001665156545417,\n",
              " 'check.v.08': 0.14427029384375856}"
            ]
          },
          "metadata": {},
          "execution_count": 18
        }
      ]
    },
    {
      "cell_type": "markdown",
      "source": [
        "Если верить распределению весов, в принципе ничего не изменилось - центральные синсеты остались такими, какими и были, разве что теперь их \"центральность\" несколько ниже, то есть они слабее объединяют остальные концепты."
      ],
      "metadata": {
        "id": "DUND_yFWcXfr"
      }
    },
    {
      "cell_type": "code",
      "source": [
        "partition_louvain = community.louvain_communities(graph2)\n",
        "\n",
        "partition_louvain"
      ],
      "metadata": {
        "id": "cmINskA3xaSx",
        "colab": {
          "base_uri": "https://localhost:8080/"
        },
        "outputId": "a7c07dbd-5d8e-417e-95a9-5b4b910a7072"
      },
      "execution_count": 19,
      "outputs": [
        {
          "output_type": "execute_result",
          "data": {
            "text/plain": [
              "[{'poll.v.01'},\n",
              " {'quiz.v.01',\n",
              "  'sample.v.01',\n",
              "  'screen.v.01',\n",
              "  'test.v.01',\n",
              "  'try.v.01',\n",
              "  'try_on.v.01'},\n",
              " {'analyze.v.01',\n",
              "  'analyze.v.02',\n",
              "  'analyze.v.03',\n",
              "  'analyze.v.04',\n",
              "  'examine.v.04',\n",
              "  'hash_out.v.01',\n",
              "  'interrogate.v.02',\n",
              "  'investigate.v.01',\n",
              "  'investigate.v.02',\n",
              "  'probe.v.01',\n",
              "  'research.v.01',\n",
              "  'research.v.02',\n",
              "  'search.v.01',\n",
              "  'search.v.04',\n",
              "  'size_up.v.01',\n",
              "  'survey.v.01'},\n",
              " {'determine.v.08',\n",
              "  'examine.v.02',\n",
              "  'interpret.v.01',\n",
              "  'learn.v.01',\n",
              "  'learn.v.02',\n",
              "  'learn.v.04',\n",
              "  'memorize.v.01',\n",
              "  'see.v.05',\n",
              "  'study.v.02',\n",
              "  'study.v.03',\n",
              "  'study.v.05',\n",
              "  'study.v.06',\n",
              "  'teach.v.01',\n",
              "  'view.v.02'},\n",
              " {'audit.v.01',\n",
              "  'check.v.01',\n",
              "  'check.v.02',\n",
              "  'check.v.08',\n",
              "  'check.v.22',\n",
              "  'control.v.02',\n",
              "  'control.v.05',\n",
              "  'inspect.v.01',\n",
              "  'review.v.03',\n",
              "  'screen.v.02',\n",
              "  'screen.v.03',\n",
              "  'survey.v.02',\n",
              "  'visit.v.04'}]"
            ]
          },
          "metadata": {},
          "execution_count": 19
        }
      ]
    },
    {
      "cell_type": "markdown",
      "source": [
        "Прям очень красивые кластеры, в которых слова очень чётко объединились по их близости! Теперь у нас есть больше релевантных кластеров, связанных непосредственно с учёбой, исследованиями, тестированием и оценкой знаний."
      ],
      "metadata": {
        "id": "E6I3Y4KwdGJ4"
      }
    },
    {
      "cell_type": "markdown",
      "source": [
        "Итак, выходит, что второй граф получился значительно содержательнее первого: в нём меньше лишних (случайных) связей и поэтому мы получаем более правдоподобную картину того, как слова, относящиеся к учебной деятельности, связаны в языке. В первом графе, скорее, результат получался слишком общим: всё связано со всем (сюрприз, язык так работает!), а здесь мы смогли более предметно посмотреть на действительно значимые связи."
      ],
      "metadata": {
        "id": "cZkKMKf-dZ6B"
      }
    },
    {
      "cell_type": "markdown",
      "source": [
        "### Шаг 6 (1 балл)\n",
        "Подведите небольшой теоретический итог. Какие выводы о колексификациях в зоне глаголов поиска позволяют сделать эти два графа?"
      ],
      "metadata": {
        "id": "hWfPhClJf5fv"
      }
    },
    {
      "cell_type": "markdown",
      "source": [
        "Мы построили и проанализировали графы, отражающие колексификацию глаголов, связанных с процессом обучения, в разных языках. Получается, что самый многозначный глагол, в некотором роде отражающий всё, что связано с обучением, исследованием, проверкой и оценкой знаний - *Analyze*, который, видимо, является почти полным синонимом *study*.\n",
        "\n",
        "Граф показывает, что в зоне глаголов, связанных с учебным процессом, можно выделить несколько групп близких синонимов, которые можно представить концептами, имеющими в каждой группе наибольший вес: *check* (оценка знаний), *test* (проверка знаний, видимо, включая самопроверку), *examine* (исследование, изучение материала). Многозначность некоторых из слов в каждой группе служит \"мостиком\", который их объединяет в общую сеть - даже во втором графе все слова, кроме *poll*, связаны.\n",
        "\n",
        "Таким образом, можно сделать вывод вывод о том, что разные ситуации, связанные с процессом обучения, часто пересекаются, соответствующие слова употребляются рядом и вместе, одно и то же слово может употребляться для описания разных этапов ситуации обучения - что, кажется, соответствует некоторой экстралингвистической интуиции."
      ],
      "metadata": {
        "id": "uMW54Mq4gfnF"
      }
    },
    {
      "cell_type": "markdown",
      "source": [
        "### Шаг 7 (бонусный, 1 балл)\n",
        "Сравните ваши графы с подграфом LOOK FOR из базы CLICS. Что общего, в чем отличия? С чем эти отличия могут быть связаны?"
      ],
      "metadata": {
        "id": "Vu7kW4geggL7"
      }
    },
    {
      "cell_type": "code",
      "source": [
        "!wget https://raw.githubusercontent.com/clics/clics3/master/clics3-network.gml.zip\n",
        "!unzip clics3-network.gml.zip"
      ],
      "metadata": {
        "colab": {
          "base_uri": "https://localhost:8080/"
        },
        "id": "u30SVgtunay2",
        "outputId": "cf551804-dd7d-457f-81d4-d6524375a551"
      },
      "execution_count": 20,
      "outputs": [
        {
          "output_type": "stream",
          "name": "stdout",
          "text": [
            "--2024-01-31 20:55:48--  https://raw.githubusercontent.com/clics/clics3/master/clics3-network.gml.zip\n",
            "Resolving raw.githubusercontent.com (raw.githubusercontent.com)... 185.199.109.133, 185.199.110.133, 185.199.108.133, ...\n",
            "Connecting to raw.githubusercontent.com (raw.githubusercontent.com)|185.199.109.133|:443... connected.\n",
            "HTTP request sent, awaiting response... 200 OK\n",
            "Length: 12181049 (12M) [application/zip]\n",
            "Saving to: ‘clics3-network.gml.zip’\n",
            "\n",
            "clics3-network.gml. 100%[===================>]  11.62M  --.-KB/s    in 0.1s    \n",
            "\n",
            "2024-01-31 20:55:48 (116 MB/s) - ‘clics3-network.gml.zip’ saved [12181049/12181049]\n",
            "\n",
            "Archive:  clics3-network.gml.zip\n",
            "   creating: graphs/\n",
            "  inflating: graphs/network-3-families.gml  \n"
          ]
        }
      ]
    },
    {
      "cell_type": "code",
      "source": [
        "with open(\"graphs/network-3-families.gml\", 'r', encoding=\"utf-8\") as file:\n",
        "    clics_graph_data = file.read()\n",
        "\n",
        "clics_graph = nx.parse_gml(clics_graph_data)\n",
        "\n",
        "len(clics_graph)"
      ],
      "metadata": {
        "colab": {
          "base_uri": "https://localhost:8080/"
        },
        "id": "c4L04y2rnn0c",
        "outputId": "31e49283-6b33-4742-c51c-5de6a582592e"
      },
      "execution_count": 21,
      "outputs": [
        {
          "output_type": "execute_result",
          "data": {
            "text/plain": [
              "2919"
            ]
          },
          "metadata": {},
          "execution_count": 21
        }
      ]
    },
    {
      "cell_type": "code",
      "source": [
        "study_node_id = None\n",
        "for node in clics_graph.nodes(data=True):\n",
        "    if node[1].get(\"Gloss\") == \"STUDY\":\n",
        "        study_node_id = node[0]\n",
        "        break\n",
        "\n",
        "if study_node_id is not None:\n",
        "    study_subgraph = nx.ego_graph(clics_graph, study_node_id, radius=1)\n",
        "else:\n",
        "    study_subgraph = None\n",
        "\n",
        "print(len(study_subgraph))\n",
        "[data.get('Gloss') for _, data in study_subgraph.nodes(data=True)]"
      ],
      "metadata": {
        "colab": {
          "base_uri": "https://localhost:8080/"
        },
        "id": "I_c6Vwihx74e",
        "outputId": "6dee267b-bd0b-4409-f282-7aa6de336938"
      },
      "execution_count": 22,
      "outputs": [
        {
          "output_type": "stream",
          "name": "stdout",
          "text": [
            "7\n"
          ]
        },
        {
          "output_type": "execute_result",
          "data": {
            "text/plain": [
              "['KNOW (SOMETHING)',\n",
              " 'UNDERSTAND',\n",
              " 'READ',\n",
              " 'IMITATE',\n",
              " 'TEACH',\n",
              " 'STUDY',\n",
              " 'LEARN']"
            ]
          },
          "metadata": {},
          "execution_count": 22
        }
      ]
    },
    {
      "cell_type": "markdown",
      "source": [
        "Сюда попали только концепты, относящиеся к процессу получения знаний. Связано это с тем, что сейчас мы рассматриваем только лексемы, связанные с *study* напрямую, тогда как в своём собственном графе мы смотрели на все связи независимо от расстояния. Мы бы могли для CLICS увеличить длину связи, отрегулировав параметр `radius`, однако уже при значении 2 получается много совсем нерелевантных связей и появляются слова вроде *KILL* (что-то в этом есть!). По сути единственное сходство с нашим графом -- концепт *TEACH. Ну и ещё одно важное отличие состоит в том, что тут мы смотрим на значение слова *study*, которое скорее ближе к *learn*, чем к *analyze* - а *analyze* в CLICS нет."
      ],
      "metadata": {
        "id": "sG0z0qeqNoV5"
      }
    },
    {
      "cell_type": "code",
      "source": [
        "num_connected_components = nx.number_connected_components(study_subgraph)\n",
        "density = nx.density(study_subgraph)\n",
        "\n",
        "num_connected_components, density"
      ],
      "metadata": {
        "colab": {
          "base_uri": "https://localhost:8080/"
        },
        "id": "woQsNeLMzeqR",
        "outputId": "52d387f7-1cff-4ab9-fd7c-f8e48ef34214"
      },
      "execution_count": 23,
      "outputs": [
        {
          "output_type": "execute_result",
          "data": {
            "text/plain": [
              "(1, 0.6190476190476191)"
            ]
          },
          "metadata": {},
          "execution_count": 23
        }
      ]
    },
    {
      "cell_type": "markdown",
      "source": [
        "А вот плотность графа достаточно близка к той, которая у нас была в самодельном первом графе. Вероятно, основания для постановки ребер в CLICS достаточно мягкие."
      ],
      "metadata": {
        "id": "63aSLiezRhFh"
      }
    },
    {
      "cell_type": "code",
      "source": [
        "weighted_degrees = dict(study_subgraph.degree(weight='weight'))\n",
        "\n",
        "{study_subgraph.nodes[key].get(\"Gloss\"): value for key, value in weighted_degrees.items()}"
      ],
      "metadata": {
        "colab": {
          "base_uri": "https://localhost:8080/"
        },
        "id": "EFs4GqZZv0E0",
        "outputId": "0fbc2a3e-86e8-4eb4-b7b3-4e9f9af012e3"
      },
      "execution_count": 24,
      "outputs": [
        {
          "output_type": "execute_result",
          "data": {
            "text/plain": [
              "{'KNOW (SOMETHING)': 3,\n",
              " 'UNDERSTAND': 3,\n",
              " 'READ': 3,\n",
              " 'IMITATE': 2,\n",
              " 'TEACH': 3,\n",
              " 'STUDY': 6,\n",
              " 'LEARN': 6}"
            ]
          },
          "metadata": {},
          "execution_count": 24
        }
      ]
    },
    {
      "cell_type": "markdown",
      "source": [
        "Ещё одно отличие данного графа от нашего - он не является взвешенным, и веса рёбер просто отражают количество связей с другими концептами. И тут получается, что и *study*, и *learn* связаны со всем остальным - в данном куске они синонимы. У нас это не так, потому что мы скорее работали с другим значением *study*, более близким к *analyze*."
      ],
      "metadata": {
        "id": "V0sVRqCzSMPn"
      }
    },
    {
      "cell_type": "markdown",
      "source": [
        "Сообщества в таком графе выделять бесполезно."
      ],
      "metadata": {
        "id": "ULvo9KHzS93M"
      }
    }
  ]
}