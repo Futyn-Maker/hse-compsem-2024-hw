{
  "nbformat": 4,
  "nbformat_minor": 0,
  "metadata": {
    "colab": {
      "provenance": []
    },
    "kernelspec": {
      "name": "python3",
      "display_name": "Python 3"
    },
    "language_info": {
      "name": "python"
    }
  },
  "cells": [
    {
      "cell_type": "markdown",
      "source": [
        "# Домашнее задание 2. Кластеризация векторного пространства\n",
        "Андрей Якубой, БКЛ212"
      ],
      "metadata": {
        "id": "Wy9uaWY2B89g"
      }
    },
    {
      "cell_type": "markdown",
      "source": [
        "## Входные данные\n",
        "Входные данные содержатся в файле [HW2_igrat'.txt](https://github.com/dashapopova/CompSem2024/blob/main/HW/HW2_igrat'.txt).\n",
        "Это глагол и список существительных, которые часто занимают при нем позицию субъекта или объекта. При каждой паре \"глагол + существительное\" указано, сколько раз они встретились вместе в основном подкорпусе НКРЯ.\n",
        "> Существительные подбирались следующим образом: в автоматически размеченном и дизамбигуированном основном подкорпусе НКРЯ выделялись случаи, когда за существительным в номинативе или аккузативе непосредственно следует искомый глагол и, наоборот, когда за искомым глаголом непосредственно следует существительное в номинативе или аккузативе; все такие существительные собраны в единый частотный список, из которого в итоговый набор попали все пары, встретившиеся не менее 20 раз.  \n",
        "**NB!** Можно взять свой датасет, см. пункт 7 в задачах."
      ],
      "metadata": {
        "id": "fW3e265eEBZK"
      }
    },
    {
      "cell_type": "markdown",
      "source": [
        "## Задачи"
      ],
      "metadata": {
        "id": "50ggt3YMFN90"
      }
    },
    {
      "cell_type": "markdown",
      "source": [
        "**7. (бонус на 9-10)**. Вместо предложенного датасета возьмите свой: выберите предикат и по любому корпусу составьте список существительных - его наиболее частотных аргументов (в списке должно быть около 100 словосочетаний). Максимально четко опишите процедуру подготовки датасета: какой использовался корпус, как был составлен сам список."
      ],
      "metadata": {
        "id": "uJXZQdXuz7rA"
      }
    },
    {
      "cell_type": "markdown",
      "source": [
        "В целом, я придерживался той же стратегии, что и авторы оригинального датасета, составляя его в том же формате, не забывая и про частотность.\n",
        "\n",
        "В качестве объекта исследования я выбрал глагол *пройти*, так как он многозначный, и его разные значения отражает сочетаемость с именами. Кроме прямого значения в качестве глагола движения (*человек прошёл*) он используется и для указания на закончившийся промежуток времени: *прошёл день*, *прошёл год*, *прошло время*. Кроме того, с глаголом сочетаются и имена, обозначающие события: *прошёл урок*, *прошла лекция*, *прошёл концерт*. Есть и другие, более редкие значения, напр. *пройти игру*.\n",
        "\n",
        " основном подкорпусе НКРЯ с автоматически снятой омонимией отдельно были проанализированы биграммы: [существительное в номинативе, предшествующее глаголу *пройти* или следующее за ним](https://ruscorpora.ru/s/bqDvD), [существительные в аккузативе, предшествующее глаголу *пройти* или следующее за ним](https://ruscorpora.ru/s/erXwB). Каждая из таблиц биграмм была проанализирована вручную, причём словоформы в биграммах заменялись на леммы, а при встрече другой биграммы с другой словоформой уже записанной леммой или с другим порядком слов просто складывались частотности. Датасет отсортирован по убыванию частотности.\n",
        "\n",
        "В итоговом датасете, как и в оригинальном, никак не учтён препозитивный или постпозитивный статус существительного, а также объектно-субъектный. Ограничение в 20 на частотность не устанавливалось, потому что в целом употреблений *пройти* в НКРЯ меньше, чем *играть*.\n",
        "\n",
        "[Датасет](https://github.com/Futyn-Maker/hse-compsem-2024-hw/blob/main/CompSem_HW2_dataset_projti.txt)"
      ],
      "metadata": {
        "id": "4TkkNtlcDtkN"
      }
    },
    {
      "cell_type": "code",
      "source": [
        "!wget https://raw.githubusercontent.com/Futyn-Maker/hse-compsem-2024-hw/main/CompSem_HW2_dataset_projti.txt"
      ],
      "metadata": {
        "colab": {
          "base_uri": "https://localhost:8080/"
        },
        "id": "Fiq8D_NeEgTV",
        "outputId": "c1db7544-10ef-46cf-fd9c-189216229471"
      },
      "execution_count": 1,
      "outputs": [
        {
          "output_type": "stream",
          "name": "stdout",
          "text": [
            "--2024-02-21 11:18:09--  https://raw.githubusercontent.com/Futyn-Maker/hse-compsem-2024-hw/main/CompSem_HW2_dataset_projti.txt\n",
            "Resolving raw.githubusercontent.com (raw.githubusercontent.com)... 185.199.110.133, 185.199.108.133, 185.199.111.133, ...\n",
            "Connecting to raw.githubusercontent.com (raw.githubusercontent.com)|185.199.110.133|:443... connected.\n",
            "HTTP request sent, awaiting response... 200 OK\n",
            "Length: 2552 (2.5K) [text/plain]\n",
            "Saving to: ‘CompSem_HW2_dataset_projti.txt’\n",
            "\n",
            "\r          CompSem_H   0%[                    ]       0  --.-KB/s               \rCompSem_HW2_dataset 100%[===================>]   2.49K  --.-KB/s    in 0s      \n",
            "\n",
            "2024-02-21 11:18:09 (20.5 MB/s) - ‘CompSem_HW2_dataset_projti.txt’ saved [2552/2552]\n",
            "\n"
          ]
        }
      ]
    },
    {
      "cell_type": "code",
      "source": [
        "import pandas as pd\n",
        "\n",
        "data = pd.read_csv(\"CompSem_HW2_dataset_projti.txt\", sep=\"\\t\", header=None, names=[\"pair\", \"frequency\"])\n",
        "data.head()"
      ],
      "metadata": {
        "colab": {
          "base_uri": "https://localhost:8080/",
          "height": 206
        },
        "id": "6BZdmd6hElYp",
        "outputId": "93944f9a-2e02-4fe0-fea7-5edd40600f94"
      },
      "execution_count": 2,
      "outputs": [
        {
          "output_type": "execute_result",
          "data": {
            "text/plain": [
              "           pair  frequency\n",
              "0   пройти_день       1711\n",
              "1  пройти_время       1550\n",
              "2    пройти_год       1492\n",
              "3   пройти_ночь        602\n",
              "4   пройти_путь        578"
            ],
            "text/html": [
              "\n",
              "  <div id=\"df-9fbd562f-46a5-4344-9265-cc694b09b1a6\" class=\"colab-df-container\">\n",
              "    <div>\n",
              "<style scoped>\n",
              "    .dataframe tbody tr th:only-of-type {\n",
              "        vertical-align: middle;\n",
              "    }\n",
              "\n",
              "    .dataframe tbody tr th {\n",
              "        vertical-align: top;\n",
              "    }\n",
              "\n",
              "    .dataframe thead th {\n",
              "        text-align: right;\n",
              "    }\n",
              "</style>\n",
              "<table border=\"1\" class=\"dataframe\">\n",
              "  <thead>\n",
              "    <tr style=\"text-align: right;\">\n",
              "      <th></th>\n",
              "      <th>pair</th>\n",
              "      <th>frequency</th>\n",
              "    </tr>\n",
              "  </thead>\n",
              "  <tbody>\n",
              "    <tr>\n",
              "      <th>0</th>\n",
              "      <td>пройти_день</td>\n",
              "      <td>1711</td>\n",
              "    </tr>\n",
              "    <tr>\n",
              "      <th>1</th>\n",
              "      <td>пройти_время</td>\n",
              "      <td>1550</td>\n",
              "    </tr>\n",
              "    <tr>\n",
              "      <th>2</th>\n",
              "      <td>пройти_год</td>\n",
              "      <td>1492</td>\n",
              "    </tr>\n",
              "    <tr>\n",
              "      <th>3</th>\n",
              "      <td>пройти_ночь</td>\n",
              "      <td>602</td>\n",
              "    </tr>\n",
              "    <tr>\n",
              "      <th>4</th>\n",
              "      <td>пройти_путь</td>\n",
              "      <td>578</td>\n",
              "    </tr>\n",
              "  </tbody>\n",
              "</table>\n",
              "</div>\n",
              "    <div class=\"colab-df-buttons\">\n",
              "\n",
              "  <div class=\"colab-df-container\">\n",
              "    <button class=\"colab-df-convert\" onclick=\"convertToInteractive('df-9fbd562f-46a5-4344-9265-cc694b09b1a6')\"\n",
              "            title=\"Convert this dataframe to an interactive table.\"\n",
              "            style=\"display:none;\">\n",
              "\n",
              "  <svg xmlns=\"http://www.w3.org/2000/svg\" height=\"24px\" viewBox=\"0 -960 960 960\">\n",
              "    <path d=\"M120-120v-720h720v720H120Zm60-500h600v-160H180v160Zm220 220h160v-160H400v160Zm0 220h160v-160H400v160ZM180-400h160v-160H180v160Zm440 0h160v-160H620v160ZM180-180h160v-160H180v160Zm440 0h160v-160H620v160Z\"/>\n",
              "  </svg>\n",
              "    </button>\n",
              "\n",
              "  <style>\n",
              "    .colab-df-container {\n",
              "      display:flex;\n",
              "      gap: 12px;\n",
              "    }\n",
              "\n",
              "    .colab-df-convert {\n",
              "      background-color: #E8F0FE;\n",
              "      border: none;\n",
              "      border-radius: 50%;\n",
              "      cursor: pointer;\n",
              "      display: none;\n",
              "      fill: #1967D2;\n",
              "      height: 32px;\n",
              "      padding: 0 0 0 0;\n",
              "      width: 32px;\n",
              "    }\n",
              "\n",
              "    .colab-df-convert:hover {\n",
              "      background-color: #E2EBFA;\n",
              "      box-shadow: 0px 1px 2px rgba(60, 64, 67, 0.3), 0px 1px 3px 1px rgba(60, 64, 67, 0.15);\n",
              "      fill: #174EA6;\n",
              "    }\n",
              "\n",
              "    .colab-df-buttons div {\n",
              "      margin-bottom: 4px;\n",
              "    }\n",
              "\n",
              "    [theme=dark] .colab-df-convert {\n",
              "      background-color: #3B4455;\n",
              "      fill: #D2E3FC;\n",
              "    }\n",
              "\n",
              "    [theme=dark] .colab-df-convert:hover {\n",
              "      background-color: #434B5C;\n",
              "      box-shadow: 0px 1px 3px 1px rgba(0, 0, 0, 0.15);\n",
              "      filter: drop-shadow(0px 1px 2px rgba(0, 0, 0, 0.3));\n",
              "      fill: #FFFFFF;\n",
              "    }\n",
              "  </style>\n",
              "\n",
              "    <script>\n",
              "      const buttonEl =\n",
              "        document.querySelector('#df-9fbd562f-46a5-4344-9265-cc694b09b1a6 button.colab-df-convert');\n",
              "      buttonEl.style.display =\n",
              "        google.colab.kernel.accessAllowed ? 'block' : 'none';\n",
              "\n",
              "      async function convertToInteractive(key) {\n",
              "        const element = document.querySelector('#df-9fbd562f-46a5-4344-9265-cc694b09b1a6');\n",
              "        const dataTable =\n",
              "          await google.colab.kernel.invokeFunction('convertToInteractive',\n",
              "                                                    [key], {});\n",
              "        if (!dataTable) return;\n",
              "\n",
              "        const docLinkHtml = 'Like what you see? Visit the ' +\n",
              "          '<a target=\"_blank\" href=https://colab.research.google.com/notebooks/data_table.ipynb>data table notebook</a>'\n",
              "          + ' to learn more about interactive tables.';\n",
              "        element.innerHTML = '';\n",
              "        dataTable['output_type'] = 'display_data';\n",
              "        await google.colab.output.renderOutput(dataTable, element);\n",
              "        const docLink = document.createElement('div');\n",
              "        docLink.innerHTML = docLinkHtml;\n",
              "        element.appendChild(docLink);\n",
              "      }\n",
              "    </script>\n",
              "  </div>\n",
              "\n",
              "\n",
              "<div id=\"df-18b57aa3-afa2-4318-b627-a3585dc3aaa4\">\n",
              "  <button class=\"colab-df-quickchart\" onclick=\"quickchart('df-18b57aa3-afa2-4318-b627-a3585dc3aaa4')\"\n",
              "            title=\"Suggest charts\"\n",
              "            style=\"display:none;\">\n",
              "\n",
              "<svg xmlns=\"http://www.w3.org/2000/svg\" height=\"24px\"viewBox=\"0 0 24 24\"\n",
              "     width=\"24px\">\n",
              "    <g>\n",
              "        <path d=\"M19 3H5c-1.1 0-2 .9-2 2v14c0 1.1.9 2 2 2h14c1.1 0 2-.9 2-2V5c0-1.1-.9-2-2-2zM9 17H7v-7h2v7zm4 0h-2V7h2v10zm4 0h-2v-4h2v4z\"/>\n",
              "    </g>\n",
              "</svg>\n",
              "  </button>\n",
              "\n",
              "<style>\n",
              "  .colab-df-quickchart {\n",
              "      --bg-color: #E8F0FE;\n",
              "      --fill-color: #1967D2;\n",
              "      --hover-bg-color: #E2EBFA;\n",
              "      --hover-fill-color: #174EA6;\n",
              "      --disabled-fill-color: #AAA;\n",
              "      --disabled-bg-color: #DDD;\n",
              "  }\n",
              "\n",
              "  [theme=dark] .colab-df-quickchart {\n",
              "      --bg-color: #3B4455;\n",
              "      --fill-color: #D2E3FC;\n",
              "      --hover-bg-color: #434B5C;\n",
              "      --hover-fill-color: #FFFFFF;\n",
              "      --disabled-bg-color: #3B4455;\n",
              "      --disabled-fill-color: #666;\n",
              "  }\n",
              "\n",
              "  .colab-df-quickchart {\n",
              "    background-color: var(--bg-color);\n",
              "    border: none;\n",
              "    border-radius: 50%;\n",
              "    cursor: pointer;\n",
              "    display: none;\n",
              "    fill: var(--fill-color);\n",
              "    height: 32px;\n",
              "    padding: 0;\n",
              "    width: 32px;\n",
              "  }\n",
              "\n",
              "  .colab-df-quickchart:hover {\n",
              "    background-color: var(--hover-bg-color);\n",
              "    box-shadow: 0 1px 2px rgba(60, 64, 67, 0.3), 0 1px 3px 1px rgba(60, 64, 67, 0.15);\n",
              "    fill: var(--button-hover-fill-color);\n",
              "  }\n",
              "\n",
              "  .colab-df-quickchart-complete:disabled,\n",
              "  .colab-df-quickchart-complete:disabled:hover {\n",
              "    background-color: var(--disabled-bg-color);\n",
              "    fill: var(--disabled-fill-color);\n",
              "    box-shadow: none;\n",
              "  }\n",
              "\n",
              "  .colab-df-spinner {\n",
              "    border: 2px solid var(--fill-color);\n",
              "    border-color: transparent;\n",
              "    border-bottom-color: var(--fill-color);\n",
              "    animation:\n",
              "      spin 1s steps(1) infinite;\n",
              "  }\n",
              "\n",
              "  @keyframes spin {\n",
              "    0% {\n",
              "      border-color: transparent;\n",
              "      border-bottom-color: var(--fill-color);\n",
              "      border-left-color: var(--fill-color);\n",
              "    }\n",
              "    20% {\n",
              "      border-color: transparent;\n",
              "      border-left-color: var(--fill-color);\n",
              "      border-top-color: var(--fill-color);\n",
              "    }\n",
              "    30% {\n",
              "      border-color: transparent;\n",
              "      border-left-color: var(--fill-color);\n",
              "      border-top-color: var(--fill-color);\n",
              "      border-right-color: var(--fill-color);\n",
              "    }\n",
              "    40% {\n",
              "      border-color: transparent;\n",
              "      border-right-color: var(--fill-color);\n",
              "      border-top-color: var(--fill-color);\n",
              "    }\n",
              "    60% {\n",
              "      border-color: transparent;\n",
              "      border-right-color: var(--fill-color);\n",
              "    }\n",
              "    80% {\n",
              "      border-color: transparent;\n",
              "      border-right-color: var(--fill-color);\n",
              "      border-bottom-color: var(--fill-color);\n",
              "    }\n",
              "    90% {\n",
              "      border-color: transparent;\n",
              "      border-bottom-color: var(--fill-color);\n",
              "    }\n",
              "  }\n",
              "</style>\n",
              "\n",
              "  <script>\n",
              "    async function quickchart(key) {\n",
              "      const quickchartButtonEl =\n",
              "        document.querySelector('#' + key + ' button');\n",
              "      quickchartButtonEl.disabled = true;  // To prevent multiple clicks.\n",
              "      quickchartButtonEl.classList.add('colab-df-spinner');\n",
              "      try {\n",
              "        const charts = await google.colab.kernel.invokeFunction(\n",
              "            'suggestCharts', [key], {});\n",
              "      } catch (error) {\n",
              "        console.error('Error during call to suggestCharts:', error);\n",
              "      }\n",
              "      quickchartButtonEl.classList.remove('colab-df-spinner');\n",
              "      quickchartButtonEl.classList.add('colab-df-quickchart-complete');\n",
              "    }\n",
              "    (() => {\n",
              "      let quickchartButtonEl =\n",
              "        document.querySelector('#df-18b57aa3-afa2-4318-b627-a3585dc3aaa4 button');\n",
              "      quickchartButtonEl.style.display =\n",
              "        google.colab.kernel.accessAllowed ? 'block' : 'none';\n",
              "    })();\n",
              "  </script>\n",
              "</div>\n",
              "    </div>\n",
              "  </div>\n"
            ],
            "application/vnd.google.colaboratory.intrinsic+json": {
              "type": "dataframe",
              "variable_name": "data",
              "summary": "{\n  \"name\": \"data\",\n  \"rows\": 85,\n  \"fields\": [\n    {\n      \"column\": \"pair\",\n      \"properties\": {\n        \"dtype\": \"string\",\n        \"num_unique_values\": 85,\n        \"samples\": [\n          \"\\u043f\\u0440\\u043e\\u0439\\u0442\\u0438_\\u0443\\u043b\\u0438\\u0446\\u0430\",\n          \"\\u043f\\u0440\\u043e\\u0439\\u0442\\u0438_\\u0434\\u0435\\u043d\\u044c\",\n          \"\\u043f\\u0440\\u043e\\u0439\\u0442\\u0438_\\u043f\\u0440\\u043e\\u0446\\u0435\\u0434\\u0443\\u0440\\u0430\"\n        ],\n        \"semantic_type\": \"\",\n        \"description\": \"\"\n      }\n    },\n    {\n      \"column\": \"frequency\",\n      \"properties\": {\n        \"dtype\": \"number\",\n        \"std\": 304,\n        \"min\": 12,\n        \"max\": 1711,\n        \"num_unique_values\": 66,\n        \"samples\": [\n          35,\n          15,\n          1711\n        ],\n        \"semantic_type\": \"\",\n        \"description\": \"\"\n      }\n    }\n  ]\n}"
            }
          },
          "metadata": {},
          "execution_count": 2
        }
      ]
    },
    {
      "cell_type": "markdown",
      "source": [
        "1. Взять [любую предобученную векторную модель для русского языка](http://vectors.nlpl.eu/repository/) и извлечь оттуда вектор для глагола и каждого существительного из списка. [Здесь](https://github.com/dashapopova/CompSem2024/blob/main/CompSem_word2vec_24.ipynb) лежит хендаут по word2vec, который может вам пригодиться."
      ],
      "metadata": {
        "id": "hNzdea8kFYbL"
      }
    },
    {
      "cell_type": "code",
      "source": [
        "!wget http://vectors.nlpl.eu/repository/20/220.zip\n",
        "!unzip 220.zip"
      ],
      "metadata": {
        "colab": {
          "base_uri": "https://localhost:8080/"
        },
        "id": "_yaS0uSPFc6b",
        "outputId": "dacbc122-810e-4841-8417-b33dcf71bd53"
      },
      "execution_count": 3,
      "outputs": [
        {
          "output_type": "stream",
          "name": "stdout",
          "text": [
            "--2024-02-21 11:18:09--  http://vectors.nlpl.eu/repository/20/220.zip\n",
            "Resolving vectors.nlpl.eu (vectors.nlpl.eu)... 129.240.189.181\n",
            "Connecting to vectors.nlpl.eu (vectors.nlpl.eu)|129.240.189.181|:80... connected.\n",
            "HTTP request sent, awaiting response... 200 OK\n",
            "Length: 638171816 (609M) [application/zip]\n",
            "Saving to: ‘220.zip’\n",
            "\n",
            "220.zip             100%[===================>] 608.61M  24.1MB/s    in 26s     \n",
            "\n",
            "2024-02-21 11:18:36 (23.5 MB/s) - ‘220.zip’ saved [638171816/638171816]\n",
            "\n",
            "Archive:  220.zip\n",
            "  inflating: meta.json               \n",
            "  inflating: model.bin               \n",
            "  inflating: model.txt               \n",
            "  inflating: README                  \n"
          ]
        }
      ]
    },
    {
      "cell_type": "code",
      "source": [
        "from gensim.models import KeyedVectors\n",
        "\n",
        "model = KeyedVectors.load_word2vec_format(\"model.bin\", binary=True)\n",
        "\n",
        "nouns = data[\"pair\"].apply(lambda x: x.split(\"_\")[1]).unique()\n",
        "verb = \"пройти_VERB\"\n",
        "\n",
        "word_vectors = {\"пройти\": model[verb]}\n",
        "\n",
        "for noun in nouns:\n",
        "    noun_tagged = f\"{noun}_NOUN\"\n",
        "    if noun_tagged in model:\n",
        "        word_vectors[noun] = model[noun_tagged]\n",
        "    else:\n",
        "        print(f\"{noun_tagged}: слово отсутствует\")"
      ],
      "metadata": {
        "id": "5Yikas9JKLiO"
      },
      "execution_count": 4,
      "outputs": []
    },
    {
      "cell_type": "markdown",
      "source": [
        "2. На основе этих векторов построить репрезентацию для каждой пары «глагол + существительное» с помощью простой аддитивной модели композиции.\n",
        "> Примечание. Если каждый вектор – это объект типа array в модуле numpy, то можно просто сложить эти два объекта, используя оператор «+»."
      ],
      "metadata": {
        "id": "dNQFcEfoNFvK"
      }
    },
    {
      "cell_type": "code",
      "source": [
        "pair_vectors = {}\n",
        "\n",
        "for pair in data[\"pair\"]:\n",
        "    noun = pair.split(\"_\")[1]\n",
        "    if noun in word_vectors:\n",
        "        pair_vectors[pair] = word_vectors[\"пройти\"] + word_vectors[noun]"
      ],
      "metadata": {
        "id": "z8OvSNPfSKiV"
      },
      "execution_count": 5,
      "outputs": []
    },
    {
      "cell_type": "markdown",
      "source": [
        "3. Собрать все векторные представления пар в единую матрицу и кластеризовать их двумя способами:\n",
        "* методом иерархической кластеризации;\n",
        "* методом К-средних, см. [хендаут](https://github.com/dashapopova/CompSem2024/blob/main/CompSemClustering.ipynb).<br/>\n",
        "В первом случае количество кластеров определяется автоматически (но задается значение порога t), во втором случае количество кластеров нужно задать вручную.\n",
        "Возьмите то значение каждого из этих параметров, которое вам кажется наиболее удачным и обоснуйте свое решение (одного-двух предложений будет вполне достаточно).\n",
        "Все остальные параметры в обоих случаях можно не менять и использовать настройки по умолчанию."
      ],
      "metadata": {
        "id": "RXR0-idHSYAn"
      }
    },
    {
      "cell_type": "code",
      "source": [
        "import numpy as np\n",
        "\n",
        "matrix = np.array(list(pair_vectors.values()))\n",
        "matrix.shape"
      ],
      "metadata": {
        "colab": {
          "base_uri": "https://localhost:8080/"
        },
        "id": "OJ43DWo8SwGV",
        "outputId": "db142e7b-c259-4cdc-a90e-b37284bdb212"
      },
      "execution_count": 6,
      "outputs": [
        {
          "output_type": "execute_result",
          "data": {
            "text/plain": [
              "(85, 300)"
            ]
          },
          "metadata": {},
          "execution_count": 6
        }
      ]
    },
    {
      "cell_type": "code",
      "source": [
        "import random\n",
        "\n",
        "random.seed(42)\n",
        "np.random.seed(42)"
      ],
      "metadata": {
        "id": "wDoE3exdVUHA"
      },
      "execution_count": 7,
      "outputs": []
    },
    {
      "cell_type": "code",
      "source": [
        "# Иерархическая кластеризация\n",
        "\n",
        "from scipy.cluster.hierarchy import dendrogram, linkage, fcluster\n",
        "import matplotlib.pyplot as plt\n",
        "\n",
        "Z = linkage(matrix)\n",
        "\n",
        "fig = plt.figure(figsize=(25, 10))\n",
        "dn = dendrogram(Z)\n",
        "plt.show()"
      ],
      "metadata": {
        "colab": {
          "base_uri": "https://localhost:8080/",
          "height": 489
        },
        "id": "z267CkteVp4d",
        "outputId": "b58e49da-d00f-486a-de42-a6aa833d62fb"
      },
      "execution_count": 8,
      "outputs": [
        {
          "output_type": "display_data",
          "data": {
            "text/plain": [
              "<Figure size 2500x1000 with 1 Axes>"
            ],
            "image/png": "[encoded data removed]"
          },
          "metadata": {}
        }
      ]
    },
    {
      "cell_type": "code",
      "source": [
        "clusters = fcluster(Z, 0.8)\n",
        "len(set(clusters))"
      ],
      "metadata": {
        "colab": {
          "base_uri": "https://localhost:8080/"
        },
        "id": "YxUCRMaCYRLd",
        "outputId": "de8e28bd-6d77-4a7c-9497-7eed562e3540"
      },
      "execution_count": 9,
      "outputs": [
        {
          "output_type": "execute_result",
          "data": {
            "text/plain": [
              "51"
            ]
          },
          "metadata": {},
          "execution_count": 9
        }
      ]
    },
    {
      "cell_type": "markdown",
      "source": [
        "51 кластер - это, наверное, много. Однако при установке значения *t* на 1 получается 43 кластера, что, казалось бы, тоже много, но они не очень релевантны. При установке значения ещё больше мы наблюдаем и вовсе только 1 кластер, промежуточных выявить не получилось."
      ],
      "metadata": {
        "id": "JYD-NLk1Zw7R"
      }
    },
    {
      "cell_type": "code",
      "source": [
        "# Метод K средних\n",
        "\n",
        "from sklearn.cluster import KMeans\n",
        "\n",
        "K = 4\n",
        "\n",
        "kmeans = KMeans(n_clusters=K)\n",
        "kmeans_labels = kmeans.fit_predict(matrix)"
      ],
      "metadata": {
        "id": "CT7pLRYKahs4",
        "colab": {
          "base_uri": "https://localhost:8080/"
        },
        "outputId": "7fe83a7f-4af9-4b96-fe58-84851ab3b5bc"
      },
      "execution_count": 10,
      "outputs": [
        {
          "output_type": "stream",
          "name": "stderr",
          "text": [
            "/usr/local/lib/python3.10/dist-packages/sklearn/cluster/_kmeans.py:870: FutureWarning: The default value of `n_init` will change from 10 to 'auto' in 1.4. Set the value of `n_init` explicitly to suppress the warning\n",
            "  warnings.warn(\n"
          ]
        }
      ]
    },
    {
      "cell_type": "markdown",
      "source": [
        "Я задал количество кластеров, равное 4 - примерно столько значений имеет глагол *пройти* согласно словарям."
      ],
      "metadata": {
        "id": "tWiOrLjZbYYl"
      }
    },
    {
      "cell_type": "markdown",
      "source": [
        "4. Для каждого кластера определите центр и выберите по три элемента, наиболее к нему близких (по метрике косинусной близости).\n",
        "Центр можно определить как среднее арифметическое среди всех элементов кластера по каждому измерению (например, с помощью метода numpy.mean).\n",
        "Кластеры, размер которых не превышает двух элементов, не учитывайте совсем."
      ],
      "metadata": {
        "id": "RdLfcA1Bbtb9"
      }
    },
    {
      "cell_type": "code",
      "source": [
        "from sklearn.metrics.pairwise import cosine_similarity\n",
        "\n",
        "def find_cluster_centers(matrix, labels):\n",
        "    unique_labels = set(labels)\n",
        "    cluster_info = {}\n",
        "\n",
        "    for label in unique_labels:\n",
        "        cluster_indices = np.where(labels == label)[0]\n",
        "        if len(cluster_indices) > 1:\n",
        "            cluster_vectors = matrix[cluster_indices]\n",
        "            center = np.mean(cluster_vectors, axis=0)\n",
        "            cos_sim = cosine_similarity(cluster_vectors, [center])\n",
        "            closest_indices = np.argsort(-cos_sim.flatten())[:3]\n",
        "            cluster_info[label] = (center, cluster_indices[closest_indices])\n",
        "\n",
        "    return cluster_info"
      ],
      "metadata": {
        "id": "0FwnkLrYbw4h"
      },
      "execution_count": 11,
      "outputs": []
    },
    {
      "cell_type": "code",
      "source": [
        "hierarchical_cluster_info = find_cluster_centers(matrix, clusters)\n",
        "kmeans_cluster_info = find_cluster_centers(matrix, kmeans_labels)"
      ],
      "metadata": {
        "id": "qF-t06AcckCw"
      },
      "execution_count": 12,
      "outputs": []
    },
    {
      "cell_type": "markdown",
      "source": [
        "Я поставил ограничение не > 2, а > 1 - потому что в случае с моим датасетом 3 элемента в кластере - это большая редкость."
      ],
      "metadata": {
        "id": "K1yhWHL3NBwb"
      }
    },
    {
      "cell_type": "code",
      "source": [
        "def format_clusters(data, cluster_info):\n",
        "    groups = []\n",
        "    for label, info in cluster_info.items():\n",
        "        _, closest_indices = info\n",
        "        phrases = data.iloc[closest_indices][\"pair\"].values\n",
        "        groups.append(\", \".join(phrases))\n",
        "    return \"\\n\".join(groups)"
      ],
      "metadata": {
        "id": "RbQ9KXRnR1Qs"
      },
      "execution_count": 13,
      "outputs": []
    },
    {
      "cell_type": "code",
      "source": [
        "hierarchical_groups = format_clusters(data, hierarchical_cluster_info)\n",
        "hierarchical_groups"
      ],
      "metadata": {
        "colab": {
          "base_uri": "https://localhost:8080/",
          "height": 87
        },
        "id": "569zXFIyed1c",
        "outputId": "ac89a570-80e4-46fa-cad6-9b9458d59e23"
      },
      "execution_count": 14,
      "outputs": [
        {
          "output_type": "execute_result",
          "data": {
            "text/plain": [
              "'пройти_совещание, пройти_заседание, пройти_конференция\\nпройти_голова, пройти_рука\\nпройти_дверь, пройти_комната\\nпройти_обучение, пройти_занятие, пройти_подготовка\\nпройти_половина, пройти_четверть\\nпройти_спектакль, пройти_пьеса\\nпройти_опера, пройти_балет\\nпройти_час, пройти_минута, пройти_сутки\\nпройти_лето, пройти_весна, пройти_зима\\nпройти_проверка, пройти_обследование\\nпройти_вечер, пройти_утро, пройти_ночь\\nпройти_презентация, пройти_премьера'"
            ],
            "application/vnd.google.colaboratory.intrinsic+json": {
              "type": "string"
            }
          },
          "metadata": {},
          "execution_count": 14
        }
      ]
    },
    {
      "cell_type": "code",
      "source": [
        "kmeans_groups = format_clusters(data, kmeans_cluster_info)\n",
        "kmeans_groups"
      ],
      "metadata": {
        "colab": {
          "base_uri": "https://localhost:8080/",
          "height": 53
        },
        "id": "KfRClyi5ekbg",
        "outputId": "ee9ca4f6-6c8d-4419-f292-810c837cb6ed"
      },
      "execution_count": 15,
      "outputs": [
        {
          "output_type": "execute_result",
          "data": {
            "text/plain": [
              "'пройти_гроза, пройти_пора, пройти_ночь\\nпройти_техосмотр, пройти_проверка, пройти_подготовка\\nпройти_неделя, пройти_месяц, пройти_час\\nпройти_спектакль, пройти_опера, пройти_балет'"
            ],
            "application/vnd.google.colaboratory.intrinsic+json": {
              "type": "string"
            }
          },
          "metadata": {},
          "execution_count": 15
        }
      ]
    },
    {
      "cell_type": "markdown",
      "source": [
        "6. Подготовьте очень краткий (буквально на абзац) анализ результатов. Однородные ли, на ваш взгляд, получились группы? Все ли значения глагола удалось «поймать» и проиллюстрировать?\n",
        "\n",
        "**NB!** Шаги 4-6 нужно проделать с результатами обеих кластеризаций: и иерархической, и методом К-средних."
      ],
      "metadata": {
        "id": "4j6PXfK5z4A2"
      }
    },
    {
      "cell_type": "markdown",
      "source": [
        "В целом: на этом наборе данных и при использовании самой большой на данный момент модели W2V для русского языка кластеризация происходит неплохо. Однако здесь я ожидал, что получится хотя бы выделить кластеры, связанные с промежутками времени и с более агентивным, когда *пройти* выступает в качестве глагола движения - а ещё, возможно, обнаружить группы, связанные с переходными и непереходными значениями. На практике кластеры объединяют скорее близкие значения самих существительных.\n",
        "\n",
        "* Иерархическая кластеризация: при такой фильтрации, какая существует сейчас, получаются самые адекватные, насколько это вообще возможно, кластеры. При этом их явно должно быть сильно меньше и существующие содержат часто только по два элемента, но при попытке сделать их более плотными с помощью увеличения *t* приводят к уменьшению количества до одного. То, что мы наблюдаем - в основном кластеризация по значению самих существительных: например, хорошо в один кластер объединились *пройти утро*, *пройти день* и *пройти ночь*. Также в одном кластере оказались, например, *пройти обучение* и *пройти занятие*, что говорит о некотором успехе в попытке выделить некоторые из значений глагола. В целом, такие кластеры как *пройти опера* - *пройти спектакль* и *пройти* - *пройти собрание* тоже вполне адекватны, но могли бы быть объединены в один. Итак, здесь проблема в очень мелких кластерах, которые выявляются только на основе векторов самих существительных, особо не учитывая глагол.\n",
        "* Кластеризация методом *k* средних: сами кластеры выглядят хорошо, в основном благодаря тому, что мы изначально могли задать их нормальное количество. При этом я бы всё равно скорее говорил, что глагол почти никак не вкладывается в получившиеся кластеры, а решают значения существительных - единственный кластер, для которого я бы сделал исключение - *пройти проверку* - *пройти техосмотр* - *пройти проверку* - здесь значение \"пройти диагностику\" выделяется хорошо. Неплохо выделяется и временное значение (*день*, *неделя*, *час*).\n",
        "\n",
        "Таким образом, простая аддитивная модель на основе статических эмбеддингов показала себя скорее не очень для задачи кластеризации, если мы хотим выделить отдельные значения глаголов. Получаемые векторы описывают скорее значения существительных, и вектор предиката в это вкладывается слабо. Так может происходить из-за статической сущности эмбеддингов, из-за того, что при сумме мы пытаемся скорее смешать значения двух разных слов, а не получить среднее. Для улучшения можно было бы попробовать другую модель получения вектора словосочетания - усреднения - или каким-нибудь образом указать, какую позицию при предикате занимает существительное."
      ],
      "metadata": {
        "id": "RoMHXIPvNLRI"
      }
    }
  ]
}